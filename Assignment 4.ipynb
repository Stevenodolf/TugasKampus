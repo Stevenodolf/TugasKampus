{
 "cells": [
  {
   "cell_type": "markdown",
   "metadata": {},
   "source": [
    "# Steven Odolf Yuwono\n",
    "# Tugas Machine Learning ke 4"
   ]
  },
  {
   "cell_type": "code",
   "execution_count": 2,
   "metadata": {},
   "outputs": [],
   "source": [
    "#Import Library\n",
    "import pandas as pd\n",
    "import numpy as np\n",
    "import matplotlib.pyplot as plt"
   ]
  },
  {
   "cell_type": "code",
   "execution_count": 3,
   "metadata": {},
   "outputs": [
    {
     "name": "stdout",
     "output_type": "stream",
     "text": [
      "            id                                               name    host_id  \\\n",
      "0        49091                  COZICOMFORT LONG TERM STAY ROOM 2     266763   \n",
      "1        50646                    Pleasant Room along Bukit Timah     227796   \n",
      "2        56334                                        COZICOMFORT     266763   \n",
      "3        71609                Ensuite Room (Room 1 & 2) near EXPO     367042   \n",
      "4        71896                    B&B  Room 1 near Airport & EXPO     367042   \n",
      "...        ...                                                ...        ...   \n",
      "7902  38105126  Loft 2 pax near Haw Par / Pasir Panjang. Free ...  278109833   \n",
      "7903  38108273                         3bedroom luxury at Orchard  238891646   \n",
      "7904  38109336    [ Farrer Park ] New City Fringe CBD Mins to MRT  281448565   \n",
      "7905  38110493          Cheap Master Room in Central of Singapore  243835202   \n",
      "7906  38112762  Amazing room with private bathroom walk to Orc...   28788520   \n",
      "\n",
      "      host_name neighbourhood_group neighbourhood  latitude  longitude  \\\n",
      "0     Francesca        North Region     Woodlands   1.44255  103.79580   \n",
      "1       Sujatha      Central Region   Bukit Timah   1.33235  103.78521   \n",
      "2     Francesca        North Region     Woodlands   1.44246  103.79667   \n",
      "3       Belinda         East Region      Tampines   1.34541  103.95712   \n",
      "4       Belinda         East Region      Tampines   1.34567  103.95963   \n",
      "...         ...                 ...           ...       ...        ...   \n",
      "7902      Belle      Central Region    Queenstown   1.27973  103.78751   \n",
      "7903       Neha      Central Region       Tanglin   1.29269  103.82623   \n",
      "7904      Mindy      Central Region       Kallang   1.31286  103.85996   \n",
      "7905      Huang      Central Region  River Valley   1.29543  103.83801   \n",
      "7906    Terence      Central Region  River Valley   1.29672  103.83325   \n",
      "\n",
      "            room_type  price  minimum_nights  number_of_reviews last_review  \\\n",
      "0        Private room     83             180                  1  2013-10-21   \n",
      "1        Private room     81              90                 18  2014-12-26   \n",
      "2        Private room     69               6                 20  2015-10-01   \n",
      "3        Private room    206               1                 14  2019-08-11   \n",
      "4        Private room     94               1                 22  2019-07-28   \n",
      "...               ...    ...             ...                ...         ...   \n",
      "7902  Entire home/apt    100               3                  0         NaN   \n",
      "7903  Entire home/apt    550               6                  0         NaN   \n",
      "7904     Private room     58              30                  0         NaN   \n",
      "7905     Private room     56              14                  0         NaN   \n",
      "7906     Private room     65              90                  0         NaN   \n",
      "\n",
      "      reviews_per_month  calculated_host_listings_count  availability_365  \n",
      "0                  0.01                               2               365  \n",
      "1                  0.28                               1               365  \n",
      "2                  0.20                               2               365  \n",
      "3                  0.15                               9               353  \n",
      "4                  0.22                               9               355  \n",
      "...                 ...                             ...               ...  \n",
      "7902                NaN                              31                61  \n",
      "7903                NaN                              34               365  \n",
      "7904                NaN                               3               173  \n",
      "7905                NaN                               2                30  \n",
      "7906                NaN                               7               365  \n",
      "\n",
      "[7907 rows x 16 columns]\n"
     ]
    }
   ],
   "source": [
    "datas = pd.read_csv(\"listings.csv\")\n",
    "print(datas)"
   ]
  },
  {
   "cell_type": "code",
   "execution_count": 5,
   "metadata": {},
   "outputs": [
    {
     "name": "stdout",
     "output_type": "stream",
     "text": [
      "      minimum_nights  number_of_reviews  calculated_host_listings_count  \\\n",
      "0                180                  1                               2   \n",
      "1                 90                 18                               1   \n",
      "2                  6                 20                               2   \n",
      "3                  1                 14                               9   \n",
      "4                  1                 22                               9   \n",
      "...              ...                ...                             ...   \n",
      "7902               3                  0                              31   \n",
      "7903               6                  0                              34   \n",
      "7904              30                  0                               3   \n",
      "7905              14                  0                               2   \n",
      "7906              90                  0                               7   \n",
      "\n",
      "      availability_365  \n",
      "0                  365  \n",
      "1                  365  \n",
      "2                  365  \n",
      "3                  353  \n",
      "4                  355  \n",
      "...                ...  \n",
      "7902                61  \n",
      "7903               365  \n",
      "7904               173  \n",
      "7905                30  \n",
      "7906               365  \n",
      "\n",
      "[7907 rows x 4 columns]\n",
      "      latitude  longitude  price\n",
      "0      1.44255  103.79580     83\n",
      "1      1.33235  103.78521     81\n",
      "2      1.44246  103.79667     69\n",
      "3      1.34541  103.95712    206\n",
      "4      1.34567  103.95963     94\n",
      "...        ...        ...    ...\n",
      "7902   1.27973  103.78751    100\n",
      "7903   1.29269  103.82623    550\n",
      "7904   1.31286  103.85996     58\n",
      "7905   1.29543  103.83801     56\n",
      "7906   1.29672  103.83325     65\n",
      "\n",
      "[7907 rows x 3 columns]\n"
     ]
    }
   ],
   "source": [
    "#Pasti\n",
    "DiscreteDatas = datas[[\"minimum_nights\",\"number_of_reviews\",\"calculated_host_listings_count\",\"availability_365\"]]\n",
    "#Tidak pasti, namun dapat di kira\"\n",
    "ContinuousDatas = datas[[\"latitude\",\"longitude\",\"price\"]]\n",
    "print(DiscreteDatas)\n",
    "print(ContinuousDatas)"
   ]
  },
  {
   "cell_type": "code",
   "execution_count": 7,
   "metadata": {},
   "outputs": [
    {
     "name": "stdout",
     "output_type": "stream",
     "text": [
      "minimum_nights                     17.510054\n",
      "number_of_reviews                  12.807386\n",
      "calculated_host_listings_count     40.607689\n",
      "availability_365                  208.726318\n",
      "dtype: float64\n",
      "latitude       1.314192\n",
      "longitude    103.848787\n",
      "price        169.332996\n",
      "dtype: float64\n",
      "minimum_nights                     1771.732636\n",
      "number_of_reviews                   882.438554\n",
      "calculated_host_listings_count     4242.064633\n",
      "availability_365                  21348.364203\n",
      "dtype: float64\n",
      "latitude          0.000935\n",
      "longitude         0.001907\n",
      "price        115712.966513\n",
      "dtype: float64\n"
     ]
    }
   ],
   "source": [
    "#Rata\" dan variance\n",
    "DiscreteMean = DiscreteDatas.mean()\n",
    "ContinuousMean = ContinuousDatas.mean()\n",
    "print(DiscreteMean)\n",
    "print(ContinuousMean)\n",
    "\n",
    "DiscreteVariance = np.var(DiscreteDatas)\n",
    "ContinuousVariance = np.var(ContinuousDatas)\n",
    "print(DiscreteVariance)\n",
    "print(ContinuousVariance)"
   ]
  },
  {
   "cell_type": "code",
   "execution_count": 9,
   "metadata": {},
   "outputs": [
    {
     "name": "stdout",
     "output_type": "stream",
     "text": [
      "      minimum_nights  number_of_reviews  calculated_host_listings_count  \\\n",
      "0                180                  1                               2   \n",
      "1                 90                 18                               1   \n",
      "2                  6                 20                               2   \n",
      "3                  1                 14                               9   \n",
      "4                  1                 22                               9   \n",
      "...              ...                ...                             ...   \n",
      "7902               3                  0                              31   \n",
      "7903               6                  0                              34   \n",
      "7904              30                  0                               3   \n",
      "7905              14                  0                               2   \n",
      "7906              90                  0                               7   \n",
      "\n",
      "      availability_365  \n",
      "0                  365  \n",
      "1                  365  \n",
      "2                  365  \n",
      "3                  353  \n",
      "4                  355  \n",
      "...                ...  \n",
      "7902                61  \n",
      "7903               365  \n",
      "7904               173  \n",
      "7905                30  \n",
      "7906               365  \n",
      "\n",
      "[7907 rows x 4 columns]\n"
     ]
    }
   ],
   "source": [
    "DiscreteDatasDtype = DiscreteDatas.astype(int)\n",
    "print(DiscreteDatasDtype)"
   ]
  },
  {
   "cell_type": "code",
   "execution_count": 11,
   "metadata": {},
   "outputs": [
    {
     "data": {
      "text/plain": [
       "(array([1.79488962e-02, 1.62043921e-03, 3.29151714e-05, 3.19023969e-04,\n",
       "        5.06387252e-06, 0.00000000e+00, 0.00000000e+00, 8.60858329e-05,\n",
       "        0.00000000e+00, 2.53193626e-06, 0.00000000e+00, 0.00000000e+00,\n",
       "        0.00000000e+00, 2.53193626e-06, 0.00000000e+00, 0.00000000e+00,\n",
       "        0.00000000e+00, 0.00000000e+00, 0.00000000e+00, 2.53193626e-06]),\n",
       " array([   1.  ,   50.95,  100.9 ,  150.85,  200.8 ,  250.75,  300.7 ,\n",
       "         350.65,  400.6 ,  450.55,  500.5 ,  550.45,  600.4 ,  650.35,\n",
       "         700.3 ,  750.25,  800.2 ,  850.15,  900.1 ,  950.05, 1000.  ]),\n",
       " <a list of 20 Patch objects>)"
      ]
     },
     "execution_count": 11,
     "metadata": {},
     "output_type": "execute_result"
    },
    {
     "data": {
      "image/png": "[encoded data removed]",
      "text/plain": [
       "<Figure size 432x288 with 1 Axes>"
      ]
     },
     "metadata": {
      "needs_background": "light"
     },
     "output_type": "display_data"
    }
   ],
   "source": [
    "plt.hist(DiscreteDatasDtype[\"minimum_nights\"], bins=20, density=True)"
   ]
  },
  {
   "cell_type": "markdown",
   "metadata": {},
   "source": [
    "# Latitude and Longitude"
   ]
  },
  {
   "cell_type": "code",
   "execution_count": 13,
   "metadata": {},
   "outputs": [
    {
     "data": {
      "text/plain": [
       "(array([  15.,    3.,  245., 1046.,  764., 1230., 2278.,  865.,  344.,\n",
       "         278.,  221.,  115.,  149.,   95.,   56.,   42.,   28.,   51.,\n",
       "          52.,   30.]),\n",
       " array([1.24387 , 1.254406, 1.264942, 1.275478, 1.286014, 1.29655 ,\n",
       "        1.307086, 1.317622, 1.328158, 1.338694, 1.34923 , 1.359766,\n",
       "        1.370302, 1.380838, 1.391374, 1.40191 , 1.412446, 1.422982,\n",
       "        1.433518, 1.444054, 1.45459 ]),\n",
       " <a list of 20 Patch objects>)"
      ]
     },
     "execution_count": 13,
     "metadata": {},
     "output_type": "execute_result"
    },
    {
     "data": {
      "image/png": "[encoded data removed]",
      "text/plain": [
       "<Figure size 432x288 with 1 Axes>"
      ]
     },
     "metadata": {
      "needs_background": "light"
     },
     "output_type": "display_data"
    }
   ],
   "source": [
    "#Plot datas tersisa\n",
    "Latitude = ContinuousDatas['latitude'].tolist()\n",
    "Longitude = ContinuousDatas['longitude'].tolist()\n",
    "coba = ContinuousDatas\n",
    "plt.hist(Latitude, bins=20)"
   ]
  },
  {
   "cell_type": "code",
   "execution_count": 14,
   "metadata": {},
   "outputs": [
    {
     "data": {
      "text/plain": [
       "(array([1.000e+00, 1.000e+00, 2.300e+01, 6.000e+01, 7.700e+01, 1.250e+02,\n",
       "        1.370e+02, 1.790e+02, 2.310e+02, 1.910e+02, 2.280e+02, 1.489e+03,\n",
       "        2.423e+03, 8.060e+02, 9.450e+02, 4.980e+02, 2.460e+02, 7.800e+01,\n",
       "        8.200e+01, 8.700e+01]),\n",
       " array([103.64656 , 103.662903, 103.679246, 103.695589, 103.711932,\n",
       "        103.728275, 103.744618, 103.760961, 103.777304, 103.793647,\n",
       "        103.80999 , 103.826333, 103.842676, 103.859019, 103.875362,\n",
       "        103.891705, 103.908048, 103.924391, 103.940734, 103.957077,\n",
       "        103.97342 ]),\n",
       " <a list of 20 Patch objects>)"
      ]
     },
     "execution_count": 14,
     "metadata": {},
     "output_type": "execute_result"
    },
    {
     "data": {
      "image/png": "[encoded data removed]",
      "text/plain": [
       "<Figure size 432x288 with 1 Axes>"
      ]
     },
     "metadata": {
      "needs_background": "light"
     },
     "output_type": "display_data"
    }
   ],
   "source": [
    "plt.hist(Longitude, bins=20)"
   ]
  },
  {
   "cell_type": "code",
   "execution_count": 16,
   "metadata": {},
   "outputs": [
    {
     "name": "stdout",
     "output_type": "stream",
     "text": [
      "1.3141924649045151 0.030575510644587977\n",
      "103.84878745794865 0.04367188073148576\n"
     ]
    }
   ],
   "source": [
    "from numpy import mean,std\n",
    "\n",
    "meanLongitude = mean(Longitude)\n",
    "stdLongitude = std(Longitude)\n",
    "\n",
    "meanLatitude = np.mean(Latitude)\n",
    "stdLatitude = np.std(Latitude)\n",
    "\n",
    "print(meanLatitude, stdLatitude)\n",
    "print(meanLongitude, stdLongitude)"
   ]
  },
  {
   "cell_type": "code",
   "execution_count": 17,
   "metadata": {},
   "outputs": [],
   "source": [
    "from scipy.stats import norm\n",
    "\n",
    "distributionLatitude = norm(meanLatitude, stdLatitude)\n",
    "distributionLongitude = norm(meanLongitude, stdLongitude)"
   ]
  },
  {
   "cell_type": "code",
   "execution_count": 19,
   "metadata": {},
   "outputs": [],
   "source": [
    "min_weightLatitude = min(Latitude)\n",
    "max_weightLatitude = max(Latitude)\n",
    "valuesLatitude = list(range(int(min_weightLatitude), int(max_weightLatitude)))\n",
    "\n",
    "min_weightLongitude = min(Longitude)\n",
    "max_weightLongitude = max(Longitude)\n",
    "valuesLongitude = list(range(int(min_weightLongitude), int(max_weightLongitude)))"
   ]
  },
  {
   "cell_type": "code",
   "execution_count": 20,
   "metadata": {},
   "outputs": [],
   "source": [
    "probabilitiesLatitude = [distributionLatitude.pdf(v) for v in valuesLatitude]\n",
    "probabilitiesLongitude = [distributionLongitude.pdf(v) for v in valuesLongitude]"
   ]
  },
  {
   "cell_type": "code",
   "execution_count": 21,
   "metadata": {},
   "outputs": [
    {
     "data": {
      "text/plain": [
       "[<matplotlib.lines.Line2D at 0x2bc0b23ed88>]"
      ]
     },
     "execution_count": 21,
     "metadata": {},
     "output_type": "execute_result"
    },
    {
     "data": {
      "image/png": "[encoded data removed]",
      "text/plain": [
       "<Figure size 432x288 with 1 Axes>"
      ]
     },
     "metadata": {
      "needs_background": "light"
     },
     "output_type": "display_data"
    }
   ],
   "source": [
    "from matplotlib import pyplot\n",
    "pyplot.hist(Latitude, bins=20, density=True) # , \n",
    "pyplot.plot(valuesLatitude, probabilitiesLatitude) "
   ]
  },
  {
   "cell_type": "code",
   "execution_count": 22,
   "metadata": {},
   "outputs": [
    {
     "data": {
      "text/plain": [
       "[<matplotlib.lines.Line2D at 0x2bc0b305b88>]"
      ]
     },
     "execution_count": 22,
     "metadata": {},
     "output_type": "execute_result"
    },
    {
     "data": {
      "image/png": "[encoded data removed]",
      "text/plain": [
       "<Figure size 432x288 with 1 Axes>"
      ]
     },
     "metadata": {
      "needs_background": "light"
     },
     "output_type": "display_data"
    }
   ],
   "source": [
    "pyplot.hist(Longitude, bins=20, density=True)\n",
    "pyplot.plot(valuesLongitude, probabilitiesLatitude)"
   ]
  },
  {
   "cell_type": "code",
   "execution_count": null,
   "metadata": {},
   "outputs": [],
   "source": []
  }
 ],
 "metadata": {
  "kernelspec": {
   "display_name": "Python 3",
   "language": "python",
   "name": "python3"
  },
  "language_info": {
   "codemirror_mode": {
    "name": "ipython",
    "version": 3
   },
   "file_extension": ".py",
   "mimetype": "text/x-python",
   "name": "python",
   "nbconvert_exporter": "python",
   "pygments_lexer": "ipython3",
   "version": "3.7.6"
  }
 },
 "nbformat": 4,
 "nbformat_minor": 4
}
